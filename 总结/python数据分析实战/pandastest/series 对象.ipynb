{
 "cells": [
  {
   "cell_type": "code",
   "execution_count": 2,
   "metadata": {},
   "outputs": [
    {
     "name": "stdout",
     "output_type": "stream",
     "text": [
      "index  value\n",
      "0    12\n",
      "1    -4\n",
      "2     7\n",
      "3     9\n",
      "dtype: int64\n"
     ]
    }
   ],
   "source": [
    "# coding:utf-8\n",
    "import pandas as pd\n",
    "s = pd.Series([12,-4,7,9])\n",
    "\n",
    "'''核心两个数据结构\n",
    "series   ： 索引index 和value\n",
    "dataframe'''\n",
    "print(\"index  value\")\n",
    "s = pd.Series([12,-4,7,9])\n",
    "print(s)"
   ]
  },
  {
   "cell_type": "code",
   "execution_count": 2,
   "metadata": {},
   "outputs": [
    {
     "name": "stdout",
     "output_type": "stream",
     "text": [
      "a    12\n",
      "b    -4\n",
      "c     7\n",
      "d     9\n",
      "dtype: int64\n",
      "[12 -4  7  9]\n",
      "Index(['a', 'b', 'c', 'd'], dtype='object')\n"
     ]
    }
   ],
   "source": [
    "\n",
    "import pandas as pd\n",
    "# 1为了有意义，在调用构造函数时，制定index 把存放有标签的数组赋给他，标签类型为字符串\n",
    "n = pd.Series([12,-4,7,9] ,index = ['a','b','c','d'])\n",
    "print(n)\n",
    "#分别查看series的两个数组\n",
    "print(n.values)\n",
    "print(n.index)\n"
   ]
  },
  {
   "cell_type": "code",
   "execution_count": 6,
   "metadata": {},
   "outputs": [
    {
     "name": "stdout",
     "output_type": "stream",
     "text": [
      "7 9\n",
      "-4\n",
      "0    12\n",
      "1    -4\n",
      "dtype: int64\n",
      "b   -4\n",
      "c    7\n",
      "dtype: int64\n"
     ]
    }
   ],
   "source": [
    "# 2选择元素和修改和数组一样\n",
    "print(s[2],n[3])\n",
    "print(n['b'])\n",
    "print(s[0:2])\n",
    "print(n[['b','c']])"
   ]
  },
  {
   "cell_type": "code",
   "execution_count": 9,
   "metadata": {},
   "outputs": [
    {
     "name": "stdout",
     "output_type": "stream",
     "text": [
      "0    12\n",
      "1     0\n",
      "2     7\n",
      "3     9\n",
      "dtype: int64 a    12\n",
      "b     1\n",
      "c     7\n",
      "d     9\n",
      "dtype: int64\n"
     ]
    }
   ],
   "source": [
    "# 3赋值\n",
    "s[1] = 0\n",
    "n['b'] = 1\n",
    "print(s,n)\n"
   ]
  },
  {
   "cell_type": "code",
   "execution_count": 11,
   "metadata": {},
   "outputs": [
    {
     "name": "stdout",
     "output_type": "stream",
     "text": [
      "0    1\n",
      "1    2\n",
      "2    3\n",
      "3    4\n",
      "dtype: int32\n",
      "0    12\n",
      "1    -4\n",
      "2     7\n",
      "3     9\n",
      "dtype: int64\n"
     ]
    }
   ],
   "source": [
    "# 4利用numpy 数组或者其他series 对象定义新的series对象.这样做的时候不要忘记\n",
    "# 新的series对象中的元素不是元numpy的数组或者series对象的副本而是对它的引用，这些对象都是动态的插入到新的series对象中\n",
    "#如果原有的对象的值发生改变，新的series对象的值也会发生改变\n",
    "\n",
    "import numpy as np\n",
    "arr = np.array([1,2,3,4])\n",
    "s3 = pd.Series(arr)\n",
    "print(s3)\n",
    "s = pd.Series([12,-4,7,9])\n",
    "s4 = pd.Series(s)\n",
    "print(s4)"
   ]
  },
  {
   "cell_type": "code",
   "execution_count": 12,
   "metadata": {},
   "outputs": [
    {
     "name": "stdout",
     "output_type": "stream",
     "text": [
      "[0     True\n",
      "1    False\n",
      "2    False\n",
      "3     True\n",
      "dtype: bool]\n",
      "0    12\n",
      "3     9\n",
      "dtype: int64\n"
     ]
    }
   ],
   "source": [
    "# 5 筛选元素\n",
    "print([s>8])\n",
    "print(s[s>8])"
   ]
  },
  {
   "cell_type": "code",
   "execution_count": 13,
   "metadata": {},
   "outputs": [
    {
     "name": "stdout",
     "output_type": "stream",
     "text": [
      "0    6.0\n",
      "1   -2.0\n",
      "2    3.5\n",
      "3    4.5\n",
      "dtype: float64\n",
      "0    2.484907\n",
      "1         NaN\n",
      "2    1.945910\n",
      "3    2.197225\n",
      "dtype: float64\n"
     ]
    },
    {
     "name": "stderr",
     "output_type": "stream",
     "text": [
      "C:\\Users\\xin\\AppData\\Roaming\\Python\\Python36\\site-packages\\ipykernel_launcher.py:3: RuntimeWarning: invalid value encountered in log\n",
      "  This is separate from the ipykernel package so we can avoid doing imports until\n"
     ]
    }
   ],
   "source": [
    "#6 series 对象运算和数学运算\n",
    "print(s/2)\n",
    "print(np.log(s))\n"
   ]
  },
  {
   "cell_type": "code",
   "execution_count": 16,
   "metadata": {},
   "outputs": [
    {
     "name": "stdout",
     "output_type": "stream",
     "text": [
      "white    1\n",
      "white    0\n",
      "blue     2\n",
      "green    1\n",
      "green    2\n",
      "yello    3\n",
      "dtype: int64\n",
      "[1 0 2 3]\n"
     ]
    }
   ],
   "source": [
    "# 7 series 对象组成的元素。生命重复对象\n",
    "serd = pd.Series([1,0,2,1,2,3],index=['white','white','blue','green','green','yello'])\n",
    "print(serd)\n",
    "#弄清包含多少个元素\n",
    "print(serd.unique())\n"
   ]
  },
  {
   "cell_type": "code",
   "execution_count": 19,
   "metadata": {},
   "outputs": [
    {
     "name": "stdout",
     "output_type": "stream",
     "text": [
      "2    2\n",
      "1    2\n",
      "3    1\n",
      "0    1\n",
      "dtype: int64\n"
     ]
    }
   ],
   "source": [
    "#另外一个统计值出现的次数的函数\n",
    "print(serd.value_counts())"
   ]
  },
  {
   "cell_type": "code",
   "execution_count": 21,
   "metadata": {},
   "outputs": [
    {
     "name": "stdout",
     "output_type": "stream",
     "text": [
      "white    False\n",
      "white     True\n",
      "blue     False\n",
      "green    False\n",
      "green    False\n",
      "yello     True\n",
      "dtype: bool\n",
      "********************\n",
      "white    False\n",
      "white     True\n",
      "blue     False\n",
      "green    False\n",
      "green    False\n",
      "yello     True\n",
      "dtype: bool\n"
     ]
    }
   ],
   "source": [
    "#isin 判断所属关系\n",
    "print(serd.isin([0,3]))\n",
    "\n",
    "print(\"*\"*20)\n",
    "print(serd.isin([0,3]))"
   ]
  },
  {
   "cell_type": "code",
   "execution_count": 23,
   "metadata": {},
   "outputs": [
    {
     "name": "stdout",
     "output_type": "stream",
     "text": [
      "0     5.0\n",
      "1    -3.0\n",
      "2     NaN\n",
      "3    14.0\n",
      "dtype: float64\n",
      "********************\n",
      "0    False\n",
      "1    False\n",
      "2     True\n",
      "3    False\n",
      "dtype: bool\n",
      "********************\n",
      "0     True\n",
      "1     True\n",
      "2    False\n",
      "3     True\n",
      "dtype: bool\n"
     ]
    }
   ],
   "source": [
    "# 8 NaN 数据结构中字段为空或者不符合数字的定义时，用这个特定的值表示\n",
    "s2 = pd.Series([5,-3,np.NaN,14])\n",
    "print(s2)\n",
    "\n",
    "print(\"*\"*20)\n",
    "'''isnull() 和 notnull() 识别没有对应元素的索引时非常好用'''\n",
    "print(s2.isnull())\n",
    "\n",
    "print(\"*\"*20)\n",
    "print(s2.notnull())\n"
   ]
  },
  {
   "cell_type": "code",
   "execution_count": 24,
   "metadata": {},
   "outputs": [
    {
     "name": "stdout",
     "output_type": "stream",
     "text": [
      "blue      1000\n",
      "orange    1000\n",
      "red       2000\n",
      "yello      500\n",
      "dtype: int64\n"
     ]
    }
   ],
   "source": [
    "# 9 series 作为字典，用先定义好的字典来创建series对象\n",
    "mdict = {'red':2000,'blue':1000,'yello':500,'orange':1000}\n",
    "myseries = pd.Series(mdict)\n",
    "print(myseries)\n"
   ]
  },
  {
   "cell_type": "code",
   "execution_count": 28,
   "metadata": {},
   "outputs": [
    {
     "name": "stdout",
     "output_type": "stream",
     "text": [
      "red       2000.0\n",
      "yello      500.0\n",
      "orange    1000.0\n",
      "blue      1000.0\n",
      "green        NaN\n",
      "dtype: float64\n"
     ]
    }
   ],
   "source": [
    "\n",
    "mydict = {'red':2000,'blue':1000,'yello':500,'orange':1000}\n",
    "colors = ['red','yello','orange','blue','green']\n",
    "myseries = pd.Series(mydict,index=colors)\n",
    "print(myseries)\n"
   ]
  },
  {
   "cell_type": "code",
   "execution_count": 29,
   "metadata": {},
   "outputs": [
    {
     "name": "stdout",
     "output_type": "stream",
     "text": [
      "black        NaN\n",
      "blue         NaN\n",
      "green        NaN\n",
      "orange       NaN\n",
      "red       2200.0\n",
      "yello     1500.0\n",
      "dtype: float64\n"
     ]
    }
   ],
   "source": [
    "# 10 series 对象之间的运算\n",
    "mydict2 = {'red':200,'yello':1000,'black':700}\n",
    "myseries2 = pd.Series(mydict2)\n",
    "print(myseries+myseries2)"
   ]
  },
  {
   "cell_type": "code",
   "execution_count": null,
   "metadata": {
    "collapsed": true
   },
   "outputs": [],
   "source": []
  }
 ],
 "metadata": {
  "kernelspec": {
   "display_name": "Python 3",
   "language": "python",
   "name": "python3"
  },
  "language_info": {
   "codemirror_mode": {
    "name": "ipython",
    "version": 3
   },
   "file_extension": ".py",
   "mimetype": "text/x-python",
   "name": "python",
   "nbconvert_exporter": "python",
   "pygments_lexer": "ipython3",
   "version": "3.6.1"
  }
 },
 "nbformat": 4,
 "nbformat_minor": 2
}
