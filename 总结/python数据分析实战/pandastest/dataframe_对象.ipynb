{
 "cells": [
  {
   "cell_type": "code",
   "execution_count": 1,
   "metadata": {},
   "outputs": [
    {
     "name": "stdout",
     "output_type": "stream",
     "text": [
      "   color  object  price\n",
      "0   blue    ball    1.2\n",
      "1  green     pen    1.0\n",
      "2  yello  pencil    0.6\n",
      "3    red   paper    0.9\n",
      "4  white     mug    1.7\n"
     ]
    }
   ],
   "source": [
    "# coding:utf-8\n",
    "import pandas as pd\n",
    "\n",
    "import numpy as np\n",
    "\n",
    "# 1定义dataframe\n",
    "data = {'color':['blue','green','yello','red','white'],\n",
    "            'object':['ball','pen','pencil','paper','mug'],\n",
    "            'price':[1.2,1.0,0.6,0.9,1.7]}\n",
    "frame = pd.DataFrame(data)\n",
    "print(frame)"
   ]
  },
  {
   "cell_type": "code",
   "execution_count": 2,
   "metadata": {},
   "outputs": [
    {
     "name": "stdout",
     "output_type": "stream",
     "text": [
      "   object  price\n",
      "0    ball    1.2\n",
      "1     pen    1.0\n",
      "2  pencil    0.6\n",
      "3   paper    0.9\n",
      "4     mug    1.7\n"
     ]
    }
   ],
   "source": [
    "    # columns  筛选指定的列\n",
    "frame2 = pd.DataFrame(data,columns=['object','price'])\n",
    "print(frame2)"
   ]
  },
  {
   "cell_type": "code",
   "execution_count": 3,
   "metadata": {},
   "outputs": [
    {
     "name": "stdout",
     "output_type": "stream",
     "text": [
      "       color  object  price\n",
      "one     blue    ball    1.2\n",
      "two    green     pen    1.0\n",
      "three  yello  pencil    0.6\n",
      "four     red   paper    0.9\n",
      "five   white     mug    1.7\n"
     ]
    }
   ],
   "source": [
    "    #index 指定索引\n",
    "frame2 = pd.DataFrame(data,index=['one','two','three','four','five'])\n",
    "print(frame2)"
   ]
  },
  {
   "cell_type": "code",
   "execution_count": 5,
   "metadata": {},
   "outputs": [
    {
     "name": "stdout",
     "output_type": "stream",
     "text": [
      "       ball  pen  pencil  paper\n",
      "blue      0    1       2      3\n",
      "green     4    5       6      7\n",
      "yello     8    9      10     11\n",
      "red      12   13      14     15\n"
     ]
    }
   ],
   "source": [
    "\n",
    "\n",
    "# 简单创建方法\n",
    "frame3 = pd.DataFrame(np.arange(16).reshape(4,4),\n",
    "                      index=['blue','green','yello','red'],\n",
    "                      columns=['ball','pen','pencil','paper'])\n",
    "print(frame3)"
   ]
  },
  {
   "cell_type": "code",
   "execution_count": 3,
   "metadata": {},
   "outputs": [
    {
     "name": "stdout",
     "output_type": "stream",
     "text": [
      "Index(['color', 'object', 'price'], dtype='object')\n"
     ]
    }
   ],
   "source": [
    "\n",
    "# coding:utf-8\n",
    "import pandas as pd\n",
    "import numpy as np\n",
    "\n",
    "# 1定义dataframe\n",
    "data = {'color':['blue','green','yello','red','white'],\n",
    "            'object':['ball','pen','pencil','paper','mug'],\n",
    "            'price':[1.2,1.0,0.6,0.9,1.7]}\n",
    "frame = pd.DataFrame(data)\n",
    "# 2 选取元素\n",
    "    # 2.1想知道dataframe 对象的所有列的名字，在它上面调用columns属性\n",
    "print(frame.columns)"
   ]
  },
  {
   "cell_type": "code",
   "execution_count": 4,
   "metadata": {},
   "outputs": [
    {
     "name": "stdout",
     "output_type": "stream",
     "text": [
      "[['blue' 'ball' 1.2]\n",
      " ['green' 'pen' 1.0]\n",
      " ['yello' 'pencil' 0.6]\n",
      " ['red' 'paper' 0.9]\n",
      " ['white' 'mug' 1.7]]\n"
     ]
    }
   ],
   "source": [
    " # 2.2获取数据结构中的元素，values 属性获取所有元素\n",
    "print(frame.values)"
   ]
  },
  {
   "cell_type": "code",
   "execution_count": 5,
   "metadata": {},
   "outputs": [
    {
     "name": "stdout",
     "output_type": "stream",
     "text": [
      "0    1.2\n",
      "1    1.0\n",
      "2    0.6\n",
      "3    0.9\n",
      "4    1.7\n",
      "Name: price, dtype: float64\n"
     ]
    }
   ],
   "source": [
    "# 2.3某一列的名称作为索引,返回值为series 对象\n",
    "print(frame['price'])"
   ]
  },
  {
   "cell_type": "code",
   "execution_count": 6,
   "metadata": {},
   "outputs": [
    {
     "name": "stdout",
     "output_type": "stream",
     "text": [
      "0    1.2\n",
      "1    1.0\n",
      "2    0.6\n",
      "3    0.9\n",
      "4    1.7\n",
      "Name: price, dtype: float64\n"
     ]
    }
   ],
   "source": [
    "# 2.4用列名称作为dataframe实例的属性\n",
    "print(frame.price)"
   ]
  },
  {
   "cell_type": "code",
   "execution_count": 8,
   "metadata": {},
   "outputs": [
    {
     "name": "stdout",
     "output_type": "stream",
     "text": [
      "color      yello\n",
      "object    pencil\n",
      "price        0.6\n",
      "Name: 2, dtype: object\n",
      "********************\n",
      "   color  object  price\n",
      "2  yello  pencil    0.6\n",
      "4  white     mug    1.7\n"
     ]
    }
   ],
   "source": [
    " #2.5至于dataframe中的行，用ix 属性和行的索引即可,\n",
    "    # 返回的同样是series对象，列名称变为索引数组的标签，列中的元素变为series的数据部分\n",
    "print(frame.ix[2])\n",
    "print('*'*20)\n",
    "print(frame.ix[[2,4]])"
   ]
  },
  {
   "cell_type": "code",
   "execution_count": 9,
   "metadata": {},
   "outputs": [
    {
     "name": "stdout",
     "output_type": "stream",
     "text": [
      "  color object  price\n",
      "0  blue   ball    1.2\n",
      "********************\n",
      "   color  object  price\n",
      "1  green     pen    1.0\n",
      "2  yello  pencil    0.6\n"
     ]
    }
   ],
   "source": [
    " # 2.6从dataframe 中抽取一部分。用索引值选择想要的行\n",
    "print(frame[0:1])\n",
    "print('*'*20)\n",
    "print(frame[1:3])"
   ]
  },
  {
   "cell_type": "code",
   "execution_count": 10,
   "metadata": {},
   "outputs": [
    {
     "name": "stdout",
     "output_type": "stream",
     "text": [
      "paper\n"
     ]
    }
   ],
   "source": [
    "# 2.7获取dataframe 中的一个元素，依次指定元素所在的列名称、行的索引值或标签\n",
    "print(frame['object'][3])"
   ]
  },
  {
   "cell_type": "code",
   "execution_count": 11,
   "metadata": {},
   "outputs": [
    {
     "name": "stdout",
     "output_type": "stream",
     "text": [
      "item  color  object  price\n",
      "id                        \n",
      "0      blue    ball    1.2\n",
      "1     green     pen    1.0\n",
      "2     yello  pencil    0.6\n",
      "3       red   paper    0.9\n",
      "4     white     mug    1.7\n"
     ]
    }
   ],
   "source": [
    "# 3 赋值\n",
    "    # 3.1用colums 属性指定包含列名称的行，还可以用name属性为这两个二级结构指定标签，便于识别\n",
    "frame.index.name = 'id'\n",
    "frame.columns.name = 'item'\n",
    "print(frame)"
   ]
  },
  {
   "cell_type": "code",
   "execution_count": 13,
   "metadata": {},
   "outputs": [
    {
     "name": "stdout",
     "output_type": "stream",
     "text": [
      "item  color  object  price  new\n",
      "id                             \n",
      "0      blue    ball    1.2   12\n",
      "1     green     pen    1.0   12\n",
      "2     yello  pencil    0.6   12\n",
      "3       red   paper    0.9   12\n",
      "4     white     mug    1.7   12\n",
      "********************\n",
      "item  color  object  price  new\n",
      "id                             \n",
      "0      blue    ball    1.2  3.0\n",
      "1     green     pen    1.0  1.3\n",
      "2     yello  pencil    0.6  2.2\n",
      "3       red   paper    0.9  0.8\n",
      "4     white     mug    1.7  1.1\n"
     ]
    }
   ],
   "source": [
    " # 3.2增加新的一列\n",
    "frame['new'] = 12\n",
    "print(frame)\n",
    "print('*'*20)\n",
    "frame['new'] = [3.0,1.3,2.2,0.8,1.1]\n",
    "print(frame)"
   ]
  },
  {
   "cell_type": "code",
   "execution_count": 18,
   "metadata": {},
   "outputs": [
    {
     "name": "stdout",
     "output_type": "stream",
     "text": [
      "0    0\n",
      "1    1\n",
      "2    2\n",
      "3    3\n",
      "4    4\n",
      "dtype: int32\n",
      "item  color  object  price  new\n",
      "id                             \n",
      "0      blue    ball    1.2    0\n",
      "1     green     pen    1.0    1\n",
      "2     yello  pencil    3.3    2\n",
      "3       red   paper    0.9    3\n",
      "4     white     mug    1.7    4\n"
     ]
    }
   ],
   "source": [
    "# 3.3如果更新某一列的全部数据，方法类似。例如借助np.arange()函数预先定义一个序列，用它更新某一列的全部元素\n",
    "    # eg： 生成一个递增序列\n",
    "ser = pd.Series(np.arange(5))\n",
    "print(ser)\n",
    "frame['new'] = ser\n",
    "print(frame)"
   ]
  },
  {
   "cell_type": "code",
   "execution_count": 19,
   "metadata": {},
   "outputs": [
    {
     "name": "stdout",
     "output_type": "stream",
     "text": [
      "item  color  object  price  new\n",
      "id                             \n",
      "0      blue    ball    1.2    0\n",
      "1     green     pen    1.0    1\n",
      "2     yello  pencil    3.3    2\n",
      "3       red   paper    0.9    3\n",
      "4     white     mug    1.7    4\n"
     ]
    },
    {
     "name": "stderr",
     "output_type": "stream",
     "text": [
      "C:\\Users\\xin\\AppData\\Roaming\\Python\\Python36\\site-packages\\ipykernel_launcher.py:2: SettingWithCopyWarning: \n",
      "A value is trying to be set on a copy of a slice from a DataFrame\n",
      "\n",
      "See the caveats in the documentation: http://pandas.pydata.org/pandas-docs/stable/indexing.html#indexing-view-versus-copy\n",
      "  \n"
     ]
    }
   ],
   "source": [
    "# 3.4修改单个元素\n",
    "frame['price'][2] = 3.3\n",
    "print(frame)"
   ]
  },
  {
   "cell_type": "code",
   "execution_count": 20,
   "metadata": {},
   "outputs": [
    {
     "name": "stdout",
     "output_type": "stream",
     "text": [
      "item  color  object  price    new\n",
      "id                               \n",
      "0     False   False  False  False\n",
      "1     False    True   True   True\n",
      "2     False   False  False  False\n",
      "3     False   False  False  False\n",
      "4     False   False  False  False\n",
      "item color object  price  new\n",
      "id                           \n",
      "0      NaN    NaN    NaN  NaN\n",
      "1      NaN    pen    1.0  1.0\n",
      "2      NaN    NaN    NaN  NaN\n",
      "3      NaN    NaN    NaN  NaN\n",
      "4      NaN    NaN    NaN  NaN\n"
     ]
    }
   ],
   "source": [
    "# 4 元素的所属关系\n",
    "frame4 = frame.isin([1.0,'pen'])\n",
    "print(frame4)\n",
    "print(frame[frame.isin([1.0,'pen'])])"
   ]
  },
  {
   "cell_type": "code",
   "execution_count": 21,
   "metadata": {},
   "outputs": [
    {
     "name": "stdout",
     "output_type": "stream",
     "text": [
      "item  color  object  price\n",
      "id                        \n",
      "0      blue    ball    1.2\n",
      "1     green     pen    1.0\n",
      "2     yello  pencil    3.3\n",
      "3       red   paper    0.9\n",
      "4     white     mug    1.7\n"
     ]
    }
   ],
   "source": [
    "# 5删除一列\n",
    "del frame['new']\n",
    "print(frame)"
   ]
  },
  {
   "cell_type": "code",
   "execution_count": 22,
   "metadata": {},
   "outputs": [
    {
     "name": "stdout",
     "output_type": "stream",
     "text": [
      "item  color  object  price\n",
      "id                        \n",
      "0      blue    ball    1.2\n",
      "1     green     pen    1.0\n",
      "2     yello  pencil    3.3\n",
      "3       red   paper    0.9\n",
      "4     white     mug    1.7\n"
     ]
    }
   ],
   "source": [
    "# 6 筛选\n",
    "print(frame[frame <10])"
   ]
  },
  {
   "cell_type": "code",
   "execution_count": 23,
   "metadata": {},
   "outputs": [
    {
     "name": "stdout",
     "output_type": "stream",
     "text": [
      "      blue   red  white\n",
      "2011    17   NaN     13\n",
      "2012    27  22.0     22\n",
      "2013    18  33.0     16\n"
     ]
    }
   ],
   "source": [
    "# 7 嵌套字典生成dataframe 对象\n",
    "nestdict = {'red':{2012:22,2013:33},\n",
    "            'white':{2011:13,2012:22,2013:16},\n",
    "            'blue':{2011:17,2012:27,2013:18}}\n",
    "frame5 = pd.DataFrame(nestdict)\n",
    "print(frame5)"
   ]
  },
  {
   "cell_type": "code",
   "execution_count": 24,
   "metadata": {},
   "outputs": [
    {
     "name": "stdout",
     "output_type": "stream",
     "text": [
      "       2011  2012  2013\n",
      "blue   17.0  27.0  18.0\n",
      "red     NaN  22.0  33.0\n",
      "white  13.0  22.0  16.0\n"
     ]
    }
   ],
   "source": [
    "# 8 转置\n",
    "print(frame5.T)"
   ]
  },
  {
   "cell_type": "code",
   "execution_count": null,
   "metadata": {
    "collapsed": true
   },
   "outputs": [],
   "source": []
  }
 ],
 "metadata": {
  "kernelspec": {
   "display_name": "Python 3",
   "language": "python",
   "name": "python3"
  },
  "language_info": {
   "codemirror_mode": {
    "name": "ipython",
    "version": 3
   },
   "file_extension": ".py",
   "mimetype": "text/x-python",
   "name": "python",
   "nbconvert_exporter": "python",
   "pygments_lexer": "ipython3",
   "version": "3.6.2"
  }
 },
 "nbformat": 4,
 "nbformat_minor": 2
}
