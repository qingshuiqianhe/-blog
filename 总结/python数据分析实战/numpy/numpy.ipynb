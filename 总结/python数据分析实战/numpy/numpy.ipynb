{
 "cells": [
  {
   "cell_type": "code",
   "execution_count": 4,
   "metadata": {},
   "outputs": [
    {
     "name": "stdout",
     "output_type": "stream",
     "text": [
      "<class 'numpy.ndarray'>\n",
      "[1 2 3]\n"
     ]
    }
   ],
   "source": [
    "# coding:utf-8\n",
    "import numpy as np\n",
    "a = np.array([1,2,3])\n",
    "print(type(a))\n",
    "print(a)\n",
    "\n"
   ]
  },
  {
   "cell_type": "code",
   "execution_count": 5,
   "metadata": {},
   "outputs": [
    {
     "name": "stdout",
     "output_type": "stream",
     "text": [
      "3.0\n",
      "2.00798406368\n",
      "[[10 11 12]\n",
      " [13 14 15]\n",
      " [16 17 18]]\n",
      "[10 11 12]\n"
     ]
    }
   ],
   "source": [
    "a = np.array([3.3,4.5,1.2,5.7,0.3])\n",
    "print(a.mean()) # 平均值\n",
    "print(a.std())# 平均差\n",
    "A = np.arange(10,19).reshape((3,3))\n",
    "print(A)\n",
    "#打印第一行\n",
    "print(A[0,:])"
   ]
  },
  {
   "cell_type": "code",
   "execution_count": 8,
   "metadata": {},
   "outputs": [
    {
     "name": "stdout",
     "output_type": "stream",
     "text": [
      "[10 13 16]\n",
      "**********\n",
      "[[10 11 12]\n",
      " [13 14 15]]\n",
      "**********\n",
      "[[10 11]\n",
      " [13 14]]\n",
      "**********\n",
      "[[10 11]\n",
      " [16 17]]\n",
      "**********\n",
      "12\n"
     ]
    }
   ],
   "source": [
    "#打印第一列\n",
    "print(A[:,0])\n",
    "print(\"*\"*10)\n",
    "print(A[0:2])\n",
    "print(\"*\"*10)\n",
    "print(A[0:2,0:2])\n",
    "print(\"*\"*10)\n",
    "print(A[[0,2],0:2])\n",
    "print(\"*\"*10)\n",
    "print(A[0,2])"
   ]
  },
  {
   "cell_type": "code",
   "execution_count": 10,
   "metadata": {},
   "outputs": [
    {
     "name": "stdout",
     "output_type": "stream",
     "text": [
      "[[ 1.  1.  1.]\n",
      " [ 1.  1.  1.]\n",
      " [ 1.  1.  1.]\n",
      " [ 0.  0.  0.]\n",
      " [ 0.  0.  0.]\n",
      " [ 0.  0.  0.]]\n",
      "**********\n",
      "[[ 1.  1.  1.  0.  0.  0.]\n",
      " [ 1.  1.  1.  0.  0.  0.]\n",
      " [ 1.  1.  1.  0.  0.  0.]]\n",
      "**********\n"
     ]
    }
   ],
   "source": [
    "# 入栈操作  vstack() 执行垂直入栈操作,hstack() 水平入栈操作，column_stack()和row_stack()  把一维数组作为列或行压入栈结构\n",
    "\n",
    "A = np.ones((3,3))\n",
    "B = np.zeros((3,3))\n",
    "\n",
    "C= np.vstack((A,B))\n",
    "print(C)\n",
    "print(\"*\"*10)\n",
    "print(np.hstack((A,B)))\n",
    "print(\"*\"*10)"
   ]
  },
  {
   "cell_type": "code",
   "execution_count": 16,
   "metadata": {},
   "outputs": [
    {
     "name": "stdout",
     "output_type": "stream",
     "text": [
      "[[0 3 6]\n",
      " [1 4 7]\n",
      " [2 5 8]]\n",
      "**************************************************\n",
      "[[0 1 2]\n",
      " [3 4 5]\n",
      " [6 7 8]]\n"
     ]
    }
   ],
   "source": [
    "a = np.array([0,1,2])\n",
    "b = np.array([3,4,5])\n",
    "c = np.array([6,7,8])\n",
    "\n",
    "print(np.column_stack((a,b,c)))\n",
    "print(\"*\"*50)\n",
    "print(np.row_stack((a,b,c)))\n"
   ]
  },
  {
   "cell_type": "code",
   "execution_count": 17,
   "metadata": {},
   "outputs": [
    {
     "name": "stdout",
     "output_type": "stream",
     "text": [
      "[[ 0.32733084  0.86703709  0.747921    0.08076546]\n",
      " [ 0.63112147  0.1425065   0.89567754  0.10877322]\n",
      " [ 0.09162992  0.40193106  0.82020125  0.32403073]]\n",
      "**************************************************\n",
      "[[ 0.32733084  0.63112147  0.09162992]\n",
      " [ 0.86703709  0.1425065   0.40193106]\n",
      " [ 0.747921    0.89567754  0.82020125]\n",
      " [ 0.08076546  0.10877322  0.32403073]]\n"
     ]
    }
   ],
   "source": [
    "# 矩阵的转置\n",
    "\n",
    "a = np.random.random(12)\n",
    "\n",
    "\n",
    "a = a.reshape(3,4)\n",
    "\n",
    "print(a)\n",
    "\n",
    "print(\"*\"*50)\n",
    "print(a.transpose())"
   ]
  },
  {
   "cell_type": "code",
   "execution_count": 21,
   "metadata": {},
   "outputs": [
    {
     "name": "stdout",
     "output_type": "stream",
     "text": [
      "[[ 0  1  2  3]\n",
      " [ 4  5  6  7]\n",
      " [ 8  9 10 11]\n",
      " [12 13 14 15]]\n",
      "b:\n",
      " [[ 0  1]\n",
      " [ 4  5]\n",
      " [ 8  9]\n",
      " [12 13]]\n",
      "*************************\n",
      "c:\n",
      " [[ 2  3]\n",
      " [ 6  7]\n",
      " [10 11]\n",
      " [14 15]]\n",
      "********************\n",
      "e:\n",
      " [[ 0  1]\n",
      " [ 4  5]\n",
      " [ 8  9]\n",
      " [12 13]]\n",
      "********************\n",
      "f:\n",
      " [[ 2  3]\n",
      " [ 6  7]\n",
      " [10 11]\n",
      " [14 15]]\n"
     ]
    }
   ],
   "source": [
    "# 数组的切分\n",
    "\n",
    "a = np.arange(16).reshape(4,4)\n",
    "\n",
    "print(a)\n",
    "# 水平切分，把数组按照宽度切分成两部分      例如4*4 的切分成两个4*2\n",
    "[b,c] = np.hsplit(a,2)\n",
    "\n",
    "print(\"b:\\n\",b)\n",
    "print(\"*\"*25)\n",
    "print(\"c:\\n\",c)\n",
    "\n",
    "print(\"*\"*20)\n",
    "\n",
    "# 垂直切分\n",
    "\n",
    "[e,f] = np.hsplit(a,2)\n",
    "\n",
    "print('e:\\n',e)\n",
    "\n",
    "print(\"*\"*20)\n",
    "\n",
    "print('f:\\n',f)"
   ]
  },
  {
   "cell_type": "code",
   "execution_count": 22,
   "metadata": {},
   "outputs": [
    {
     "name": "stdout",
     "output_type": "stream",
     "text": [
      "a1:\n",
      " [[ 0]\n",
      " [ 4]\n",
      " [ 8]\n",
      " [12]]\n",
      "a2；\n",
      " [[ 1  2]\n",
      " [ 5  6]\n",
      " [ 9 10]\n",
      " [13 14]]\n",
      "a3:\n",
      " [[ 3]\n",
      " [ 7]\n",
      " [11]\n",
      " [15]]\n"
     ]
    }
   ],
   "source": [
    "# split() 函数，axis =1 索引为列索引，axis = 0 ，索引为行索引\n",
    "\n",
    "[a1,a2,a3] = np.split(a,[1,3],axis =1)\n",
    "\n",
    "print(\"a1:\\n\",a1)\n",
    "\n",
    "print(\"a2；\\n\",a2)\n",
    "\n",
    "print(\"a3:\\n\",a3)\n",
    "\n"
   ]
  },
  {
   "cell_type": "code",
   "execution_count": 23,
   "metadata": {},
   "outputs": [
    {
     "name": "stdout",
     "output_type": "stream",
     "text": [
      "a1:\n",
      " [[0 1 2 3]]\n",
      "a2；\n",
      " [[ 4  5  6  7]\n",
      " [ 8  9 10 11]]\n",
      "a3:\n",
      " [[12 13 14 15]]\n"
     ]
    }
   ],
   "source": [
    "[a1,a2,a3] = np.split(a,[1,3],axis =0)\n",
    "\n",
    "print(\"a1:\\n\",a1)\n",
    "\n",
    "print(\"a2；\\n\",a2)\n",
    "\n",
    "print(\"a3:\\n\",a3)"
   ]
  },
  {
   "cell_type": "code",
   "execution_count": 7,
   "metadata": {},
   "outputs": [
    {
     "name": "stdout",
     "output_type": "stream",
     "text": [
      "a\n",
      " [[ 0  1  2  3]\n",
      " [ 4  5  6  7]\n",
      " [ 8  9 10 11]\n",
      " [12 13 14 15]]\n"
     ]
    },
    {
     "ename": "OSError",
     "evalue": "[Errno 22] Invalid argument: 'saved_data.npy'",
     "output_type": "error",
     "traceback": [
      "\u001b[1;31m---------------------------------------------------------------------------\u001b[0m",
      "\u001b[1;31mOSError\u001b[0m                                   Traceback (most recent call last)",
      "\u001b[1;32m<ipython-input-7-460f10a6fcbf>\u001b[0m in \u001b[0;36m<module>\u001b[1;34m()\u001b[0m\n\u001b[0;32m      7\u001b[0m \u001b[0mprint\u001b[0m\u001b[1;33m(\u001b[0m\u001b[1;34m'a\\n'\u001b[0m\u001b[1;33m,\u001b[0m\u001b[0ma\u001b[0m\u001b[1;33m)\u001b[0m\u001b[1;33m\u001b[0m\u001b[0m\n\u001b[0;32m      8\u001b[0m \u001b[1;33m\u001b[0m\u001b[0m\n\u001b[1;32m----> 9\u001b[1;33m \u001b[0msaved_data\u001b[0m \u001b[1;33m=\u001b[0m \u001b[0mnp\u001b[0m\u001b[1;33m.\u001b[0m\u001b[0msave\u001b[0m\u001b[1;33m(\u001b[0m\u001b[1;34m'saved_data'\u001b[0m\u001b[1;33m,\u001b[0m\u001b[0ma\u001b[0m\u001b[1;33m)\u001b[0m\u001b[1;33m\u001b[0m\u001b[0m\n\u001b[0m",
      "\u001b[1;32m~\\AppData\\Roaming\\Python\\Python36\\site-packages\\numpy\\lib\\npyio.py\u001b[0m in \u001b[0;36msave\u001b[1;34m(file, arr, allow_pickle, fix_imports)\u001b[0m\n\u001b[0;32m    488\u001b[0m         \u001b[1;32mif\u001b[0m \u001b[1;32mnot\u001b[0m \u001b[0mfile\u001b[0m\u001b[1;33m.\u001b[0m\u001b[0mendswith\u001b[0m\u001b[1;33m(\u001b[0m\u001b[1;34m'.npy'\u001b[0m\u001b[1;33m)\u001b[0m\u001b[1;33m:\u001b[0m\u001b[1;33m\u001b[0m\u001b[0m\n\u001b[0;32m    489\u001b[0m             \u001b[0mfile\u001b[0m \u001b[1;33m=\u001b[0m \u001b[0mfile\u001b[0m \u001b[1;33m+\u001b[0m \u001b[1;34m'.npy'\u001b[0m\u001b[1;33m\u001b[0m\u001b[0m\n\u001b[1;32m--> 490\u001b[1;33m         \u001b[0mfid\u001b[0m \u001b[1;33m=\u001b[0m \u001b[0mopen\u001b[0m\u001b[1;33m(\u001b[0m\u001b[0mfile\u001b[0m\u001b[1;33m,\u001b[0m \u001b[1;34m\"wb\"\u001b[0m\u001b[1;33m)\u001b[0m\u001b[1;33m\u001b[0m\u001b[0m\n\u001b[0m\u001b[0;32m    491\u001b[0m         \u001b[0mown_fid\u001b[0m \u001b[1;33m=\u001b[0m \u001b[1;32mTrue\u001b[0m\u001b[1;33m\u001b[0m\u001b[0m\n\u001b[0;32m    492\u001b[0m     \u001b[1;32melif\u001b[0m \u001b[0mis_pathlib_path\u001b[0m\u001b[1;33m(\u001b[0m\u001b[0mfile\u001b[0m\u001b[1;33m)\u001b[0m\u001b[1;33m:\u001b[0m\u001b[1;33m\u001b[0m\u001b[0m\n",
      "\u001b[1;31mOSError\u001b[0m: [Errno 22] Invalid argument: 'saved_data.npy'"
     ]
    }
   ],
   "source": [
    "# save() 方法以二进制格式保存数据，load()方法从二进制文件中读取数据\n",
    "\n",
    "# coding:utf-8\n",
    "import numpy as np\n",
    "a = np.arange(16).reshape(4,4)\n",
    "\n",
    "print('a\\n',a)\n",
    "\n",
    "saved_data = np.save('saved_data',a)"
   ]
  },
  {
   "cell_type": "code",
   "execution_count": 8,
   "metadata": {},
   "outputs": [
    {
     "name": "stdout",
     "output_type": "stream",
     "text": [
      "[1 2 3]\n"
     ]
    }
   ],
   "source": [
    "loaded_data = np.load('saved_data.npy',mmap_mode='r')\n",
    "\n",
    "print(loaded_data)"
   ]
  },
  {
   "cell_type": "code",
   "execution_count": 3,
   "metadata": {},
   "outputs": [
    {
     "ename": "NameError",
     "evalue": "name 'np' is not defined",
     "output_type": "error",
     "traceback": [
      "\u001b[1;31m---------------------------------------------------------------------------\u001b[0m",
      "\u001b[1;31mNameError\u001b[0m                                 Traceback (most recent call last)",
      "\u001b[1;32m<ipython-input-3-d75bcaed9956>\u001b[0m in \u001b[0;36m<module>\u001b[1;34m()\u001b[0m\n\u001b[0;32m      1\u001b[0m \u001b[1;31m# genfromtxt() 可以从文本文件中读取数据并将其插入数组中，函数接受三个参数，文件名，用于分割的字符，是否含有列标题\u001b[0m\u001b[1;33m\u001b[0m\u001b[1;33m\u001b[0m\u001b[0m\n\u001b[0;32m      2\u001b[0m \u001b[1;33m\u001b[0m\u001b[0m\n\u001b[1;32m----> 3\u001b[1;33m \u001b[0mdata\u001b[0m \u001b[1;33m=\u001b[0m \u001b[0mnp\u001b[0m\u001b[1;33m.\u001b[0m\u001b[0mgemfromtxt\u001b[0m\u001b[1;33m(\u001b[0m\u001b[1;34m'data.csv'\u001b[0m\u001b[1;33m,\u001b[0m\u001b[0mdelimiter\u001b[0m\u001b[1;33m=\u001b[0m\u001b[1;34m','\u001b[0m\u001b[1;33m,\u001b[0m\u001b[0mnames\u001b[0m \u001b[1;33m=\u001b[0m \u001b[1;32mTrue\u001b[0m\u001b[1;33m)\u001b[0m\u001b[1;33m\u001b[0m\u001b[0m\n\u001b[0m\u001b[0;32m      4\u001b[0m \u001b[1;33m\u001b[0m\u001b[0m\n\u001b[0;32m      5\u001b[0m \u001b[0mprint\u001b[0m\u001b[1;33m(\u001b[0m\u001b[0mdata\u001b[0m\u001b[1;33m)\u001b[0m\u001b[1;33m\u001b[0m\u001b[0m\n",
      "\u001b[1;31mNameError\u001b[0m: name 'np' is not defined"
     ]
    }
   ],
   "source": [
    "# genfromtxt() 可以从文本文件中读取数据并将其插入数组中，函数接受三个参数，文件名，用于分割的字符，是否含有列标题\n",
    "\n",
    "data = np.gemfromtxt('data.csv',delimiter=',',names = True)\n",
    "\n",
    "print(data)\n",
    "\n",
    "# 函数包含两层 隐式循环，第一层循环每次读取一行，第二曾循环将第一行的多个值分开后，在对着这些值进行转化，依次插入所创建的元素。函数优点可以处理\n",
    "\n",
    "# 数据缺失的元素"
   ]
  },
  {
   "cell_type": "code",
   "execution_count": null,
   "metadata": {
    "collapsed": true
   },
   "outputs": [],
   "source": []
  }
 ],
 "metadata": {
  "kernelspec": {
   "display_name": "Python 3",
   "language": "python",
   "name": "python3"
  },
  "language_info": {
   "codemirror_mode": {
    "name": "ipython",
    "version": 3
   },
   "file_extension": ".py",
   "mimetype": "text/x-python",
   "name": "python",
   "nbconvert_exporter": "python",
   "pygments_lexer": "ipython3",
   "version": "3.6.1"
  }
 },
 "nbformat": 4,
 "nbformat_minor": 2
}
